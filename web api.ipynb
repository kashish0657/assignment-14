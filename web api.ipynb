{
 "cells": [
  {
   "cell_type": "markdown",
   "id": "0ea1f10c-c866-4475-b2d8-a6720175f098",
   "metadata": {},
   "source": [
    "## 18th FEBRUARY ASSIGNMENT"
   ]
  },
  {
   "cell_type": "code",
   "execution_count": null,
   "id": "b13ea465-a3fe-494e-a65f-050d952d2579",
   "metadata": {},
   "outputs": [],
   "source": [
    "1:ans:-   API :-\n",
    "                An application programming interface is a way for two or more computer\n",
    "                programs to communicate with each other.\n",
    "    \n",
    "     Example:-  Weather data is a popular API example that we come across regularly. Rich weather\n",
    "                snippets appear ubiquitous, appearing on all platforms such as Google Search,\n",
    "                Apple's Weather app, and even your smart home device.\n",
    "                "
   ]
  },
  {
   "cell_type": "code",
   "execution_count": null,
   "id": "c314973c-510e-40a9-b85e-7e92df9da3a0",
   "metadata": {},
   "outputs": [],
   "source": [
    "2:ans:-                Advantages of using APIs :-\n",
    "\n",
    "        a:-  Automation. When using an API managed by computers, less human effort is required \n",
    "                and workflows can be easily updated to become faster and more productive.\n",
    "        \n",
    "        b:-     Developer efficiency and innovation.\n",
    "        \n",
    "        c:-     Improved value proposition.\n",
    "        \n",
    "                    Disadvantages of APIs :-\n",
    "            \n",
    "        As a single point of entry, an API is a gateway and can become a hacker's\n",
    "        primary target. Once the API is compromised, all other applications and systems become vulnerable.\n",
    "        "
   ]
  },
  {
   "cell_type": "code",
   "execution_count": null,
   "id": "a41769ab-faf7-443d-8d7d-de9227565077",
   "metadata": {},
   "outputs": [],
   "source": [
    "3:ans:-           Web API :-\n",
    "\n",
    "        A web API is an application programming interface for either a web server\n",
    "        or a web browser. As a web development concept, it can be related to a web application\n",
    "        client side. \n",
    "        \n",
    "\n",
    "Web API:-\n",
    "\n",
    "a : All web services are APIs.\n",
    "b : It supports XML.\n",
    "c : You need a SOAP protocol to send or receive and data over the network.\n",
    "    Therefore it does not have light-weight architecture.\n",
    "d : It can be used by any client who understands XML.\n",
    "e : Web service uses three styles: REST, SOAP, and XML-RPC for communication.\n",
    "f : It provides supports only for the HTTP protocol.\n",
    "\n",
    "API:-\n",
    "\n",
    "a : All APIs are not web API.\n",
    "b :\tResponses are formatted using Web API’s MediaTypeFormatter into XML, JSON, or any other given format.\n",
    "c :\tAPI has a light-weight architecture.\n",
    "d :\tIt can be used by a client who understands JSON or XML.\n",
    "e :\tIt provides support for the HTTP/s protocol: URL Request/Response Headers, etc.\n"
   ]
  },
  {
   "cell_type": "code",
   "execution_count": null,
   "id": "904d09de-cd22-4b41-a0dc-3601969be40e",
   "metadata": {},
   "outputs": [],
   "source": [
    "4:ans:-\n",
    "\n",
    "REST is a set of guidelines that offers flexible implementation, whereas SOAP is a protocol\n",
    "with specific requirements like XML messaging. REST APIs are lightweight, making them ideal\n",
    "for newer contexts like the Internet of Things (IoT), mobile application development, and serverless computing.\n",
    "\n",
    "Shortcomings of Soap :-\n",
    "\n",
    "Soaps do not wash well in hard water and does not form much lather or foam. \n"
   ]
  },
  {
   "cell_type": "code",
   "execution_count": null,
   "id": "c9c25502-28fa-4fed-91ca-2602d7ac4d49",
   "metadata": {},
   "outputs": [],
   "source": [
    "5:ans:-\n",
    "\n",
    "Key Difference Between SOAP and REST API :-\n",
    "a : SOAP stands for Simple Object Access Protocol whereas REST stands for Representational State Transfer.\n",
    "b : SOAP is a protocol whereas REST is an architectural pattern.\n",
    "c : SOAP uses service interfaces to expose its functionality to client applications while REST uses Uniform Service locators to access to the components on the hardware device.\n",
    "d : SOAP needs more bandwidth for its usage whereas REST doesn’t need much bandwidth.\n",
    "e : Comparing SOAP vs REST API, SOAP only works with XML formats whereas REST work with plain text, XML, HTML and JSON.\n",
    "fSOAP cannot make use of REST whereas REST can make use of SOAP."
   ]
  }
 ],
 "metadata": {
  "kernelspec": {
   "display_name": "Python 3 (ipykernel)",
   "language": "python",
   "name": "python3"
  },
  "language_info": {
   "codemirror_mode": {
    "name": "ipython",
    "version": 3
   },
   "file_extension": ".py",
   "mimetype": "text/x-python",
   "name": "python",
   "nbconvert_exporter": "python",
   "pygments_lexer": "ipython3",
   "version": "3.10.8"
  }
 },
 "nbformat": 4,
 "nbformat_minor": 5
}
